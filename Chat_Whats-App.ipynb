{
 "cells": [
  {
   "cell_type": "code",
   "execution_count": null,
   "id": "d6026000",
   "metadata": {},
   "outputs": [],
   "source": [
    "%load_ext watermark\n",
    "%watermark\n",
    "%matplotlib inline"
   ]
  },
  {
   "cell_type": "markdown",
   "id": "88e11794",
   "metadata": {},
   "source": [
    "## Librerias"
   ]
  },
  {
   "cell_type": "code",
   "execution_count": null,
   "id": "d9d26023",
   "metadata": {},
   "outputs": [],
   "source": [
    "import pandas as pd\n",
    "import plotly.express as px\n",
    "import nltk\n",
    "import re\n",
    "import stylecloud\n",
    "from nltk.corpus import stopwords\n",
    "\n",
    "pd.set_option('display.max_columns', 500)"
   ]
  },
  {
   "cell_type": "markdown",
   "id": "48a164c9",
   "metadata": {},
   "source": [
    "## Leemos el archivo"
   ]
  },
  {
   "cell_type": "code",
   "execution_count": null,
   "id": "da224523",
   "metadata": {},
   "outputs": [],
   "source": [
    "f = open('D:/.../CURSO_DATA_S/CHATS/data/Chat de WhatsApp con Dani Mendoza.txt',\n",
    "         'r',\n",
    "         encoding=('utf-8'))\n",
    "data = f.read()\n",
    "print(data)\n",
    "print(type(data))"
   ]
  },
  {
   "cell_type": "markdown",
   "id": "5c6ceccf",
   "metadata": {},
   "source": [
    "## Eliminamos caracteres especiales"
   ]
  },
  {
   "cell_type": "code",
   "execution_count": null,
   "id": "22afc96d",
   "metadata": {},
   "outputs": [],
   "source": [
    "mensaje = re.sub(r'[\\xa0]+', '', data)"
   ]
  },
  {
   "cell_type": "markdown",
   "id": "5560c875",
   "metadata": {},
   "source": [
    "## Formato de mensaje: Fecha Hora - Autor: Mensaje "
   ]
  },
  {
   "cell_type": "code",
   "execution_count": null,
   "id": "a2998a5c",
   "metadata": {},
   "outputs": [],
   "source": [
    "messages = re.findall('(\\d+/\\d+/\\d+) (\\d+:\\d+\\d+ \\w+.\\w+.) - ([A-Z].*?): (.*)\\n', mensaje)"
   ]
  },
  {
   "cell_type": "markdown",
   "id": "094c127b",
   "metadata": {},
   "source": [
    "## Conversion a dataframe con sus columnas"
   ]
  },
  {
   "cell_type": "code",
   "execution_count": null,
   "id": "241d55eb",
   "metadata": {},
   "outputs": [],
   "source": [
    "chat = pd.DataFrame(messages, columns=['Fecha', 'Hora', 'Autor', 'Mensaje'])\n",
    "chat"
   ]
  },
  {
   "cell_type": "markdown",
   "id": "dcc0bc7a",
   "metadata": {},
   "source": [
    "## Nube de palabras C Yañez"
   ]
  },
  {
   "cell_type": "code",
   "execution_count": null,
   "id": "3a25ccd4",
   "metadata": {},
   "outputs": [],
   "source": [
    "chat1 = chat[chat.Mensaje != '<Multimedia omitido>']\n",
    "chatC = chat1[chat1['Autor'] == 'C Yañez']\n",
    "chatC"
   ]
  },
  {
   "cell_type": "code",
   "execution_count": null,
   "id": "b67e1895",
   "metadata": {},
   "outputs": [],
   "source": [
    "f = open('D:/.../CURSO_DATA_S/CHATS/data/mensajes_cynthia.txt', 'w', encoding='utf-8')\n",
    "for m in chatC.Mensaje:\n",
    "    f.write(m)\n",
    "    f.write('\\n')\n",
    "f.close()"
   ]
  },
  {
   "cell_type": "code",
   "execution_count": null,
   "id": "c8a49c3d",
   "metadata": {},
   "outputs": [],
   "source": [
    "stop_words_sp = stopwords.words('spanish')\n",
    "\n",
    "stylecloud.gen_stylecloud(file_path='D:/.../CURSO_DATA_S/CHATS/data/mensajes_cynthia.txt',\n",
    "                         icon_name= \"fas fa-heart\",\n",
    "                         palette= 'cartocolors.qualitative.Antique_10',\n",
    "                         background_color= 'black',\n",
    "                         output_name= 'D:/.../CURSO_DATA_S/CHATS/media/nube-cynthia.png',\n",
    "                         collocations= False,\n",
    "                         custom_stopwords= stop_words_sp)"
   ]
  },
  {
   "cell_type": "markdown",
   "id": "14d4e858",
   "metadata": {},
   "source": [
    "## Nube de palabras Dani"
   ]
  },
  {
   "cell_type": "code",
   "execution_count": null,
   "id": "4a272123",
   "metadata": {},
   "outputs": [],
   "source": [
    "chat1 = chat[chat.Mensaje != '<Multimedia omitido>']\n",
    "chatD = chat1[chat1['Autor'] == 'Dani Mendoza']\n",
    "chatD"
   ]
  },
  {
   "cell_type": "code",
   "execution_count": null,
   "id": "f2211f7b",
   "metadata": {},
   "outputs": [],
   "source": [
    "f = open('D:/.../CURSO_DATA_S/CHATS/data/mensajes_dani.txt', 'w', encoding='utf-8')\n",
    "for m in chatD.Mensaje:\n",
    "    f.write(m)\n",
    "    f.write('\\n')\n",
    "f.close()"
   ]
  },
  {
   "cell_type": "code",
   "execution_count": null,
   "id": "7929cfe1",
   "metadata": {},
   "outputs": [],
   "source": [
    "stop_words_sp = stopwords.words('spanish')\n",
    "\n",
    "stylecloud.gen_stylecloud(file_path='D:/.../CURSO_DATA_S/CHATS/data/mensajes_dani.txt',\n",
    "                         icon_name= \"fas fa-hand-peace\",\n",
    "                         palette= 'cartocolors.qualitative.Antique_10',\n",
    "                         background_color= 'black',\n",
    "                         output_name= 'D:/.../CURSO_DATA_S/CHATS/media/nube-dani.png',\n",
    "                         collocations= False,\n",
    "                         custom_stopwords= stop_words_sp)"
   ]
  },
  {
   "cell_type": "markdown",
   "id": "c655069a",
   "metadata": {},
   "source": [
    "## Nube de palabras de todo el chat"
   ]
  },
  {
   "cell_type": "code",
   "execution_count": null,
   "id": "3b3f3805",
   "metadata": {},
   "outputs": [],
   "source": [
    "chatT = chat[chat.Mensaje != '<Multimedia omitido>']\n",
    "chatT"
   ]
  },
  {
   "cell_type": "code",
   "execution_count": null,
   "id": "f1e1be96",
   "metadata": {},
   "outputs": [],
   "source": [
    "f = open('D:/.../CURSO_DATA_S/CHATS/data/mensajes_cynthia_dani.txt', 'w', encoding='utf-8')\n",
    "for m in chatT.Mensaje:\n",
    "    f.write(m)\n",
    "    f.write('\\n')\n",
    "f.close()"
   ]
  },
  {
   "cell_type": "code",
   "execution_count": null,
   "id": "aabfc0d9",
   "metadata": {},
   "outputs": [],
   "source": [
    "stop_words_sp = stopwords.words('spanish')\n",
    "\n",
    "stylecloud.gen_stylecloud(file_path='D:/.../CURSO_DATA_S/CHATS/data/mensajes_cynthia_dani.txt',\n",
    "                         icon_name= \"fas fa-dog\",\n",
    "                         palette= 'cartocolors.qualitative.Antique_10',\n",
    "                         background_color= 'black',\n",
    "                         output_name= 'D:/.../CURSO_DATA_S/CHATS/media/nube-cynthia-dani.png',\n",
    "                         collocations= False,\n",
    "                         custom_stopwords= stop_words_sp)"
   ]
  },
  {
   "cell_type": "markdown",
   "id": "c3d5f27e",
   "metadata": {},
   "source": [
    "## Analizis exploratorio"
   ]
  },
  {
   "cell_type": "code",
   "execution_count": null,
   "id": "2475f98c",
   "metadata": {},
   "outputs": [],
   "source": [
    "# Numero de mensajes de C Yañez\n",
    "chat['Mensaje'][chat.Autor == 'C Yañez'].count()"
   ]
  },
  {
   "cell_type": "code",
   "execution_count": null,
   "id": "4526761d",
   "metadata": {},
   "outputs": [],
   "source": [
    "# Numero de mensajes de Dani Mendoza\n",
    "chat['Mensaje'][chat.Autor == 'Dani Mendoza'].count()"
   ]
  },
  {
   "cell_type": "code",
   "execution_count": null,
   "id": "e59bd0a9",
   "metadata": {},
   "outputs": [],
   "source": [
    "# Numero de mensajes multimedia de C Yañez\n",
    "chat1 = chat[chat.Mensaje == '<Multimedia omitido>']\n",
    "chat1['Mensaje'][chat1.Autor == 'C Yañez'].count()"
   ]
  },
  {
   "cell_type": "code",
   "execution_count": null,
   "id": "bbb6ba61",
   "metadata": {},
   "outputs": [],
   "source": [
    "# Numero de mensajes multimedia de Dani Mendoza\n",
    "chat1 = chat[chat.Mensaje == '<Multimedia omitido>']\n",
    "chat1['Mensaje'][chat1.Autor == 'Dani Mendoza'].count()"
   ]
  },
  {
   "cell_type": "markdown",
   "id": "6e87a8b2",
   "metadata": {},
   "source": [
    "## Numero de palabras"
   ]
  },
  {
   "cell_type": "code",
   "execution_count": null,
   "id": "3ac8e681",
   "metadata": {},
   "outputs": [],
   "source": [
    "# Numero de palabras de C Yañez\n",
    "f = open('D:/.../CURSO_DATA_S/CHATS/data/mensajes_cynthia.txt', 'r', encoding='utf-8')\n",
    "data = f.read()\n",
    "palabras = data.split()\n",
    "print(len(palabras))"
   ]
  },
  {
   "cell_type": "code",
   "execution_count": null,
   "id": "8778bd51",
   "metadata": {},
   "outputs": [],
   "source": [
    "# Numero de palabras de Dani Mendoza\n",
    "f = open('D:/.../CURSO_DATA_S/CHATS/data/mensajes_dani.txt', 'r', encoding='utf-8')\n",
    "data = f.read()\n",
    "palabras = data.split()\n",
    "print(len(palabras))"
   ]
  }
 ],
 "metadata": {
  "kernelspec": {
   "display_name": "Python 3 (ipykernel)",
   "language": "python",
   "name": "python3"
  },
  "language_info": {
   "codemirror_mode": {
    "name": "ipython",
    "version": 3
   },
   "file_extension": ".py",
   "mimetype": "text/x-python",
   "name": "python",
   "nbconvert_exporter": "python",
   "pygments_lexer": "ipython3",
   "version": "3.8.8"
  }
 },
 "nbformat": 4,
 "nbformat_minor": 5
}
